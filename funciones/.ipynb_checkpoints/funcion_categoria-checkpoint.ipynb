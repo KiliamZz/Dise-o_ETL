{
 "cells": [
  {
   "cell_type": "code",
   "execution_count": null,
   "id": "08e6cc10",
   "metadata": {},
   "outputs": [],
   "source": [
    "def categoria (valor_categoria):\n",
    "    if valor_categoria == 'Less than $40K':\n",
    "        return 'Muy bajo'\n",
    "    elif valor_categoria == '$40K - $60K':\n",
    "        return 'bajo'\n",
    "    elif valor_categoria == '$60K - $80K':\n",
    "        return 'Intermedio'\n",
    "    elif valor_categoria == '$80K - $120K':\n",
    "        return 'Alto'\n",
    "    elif valor_categoria == '$120K +':\n",
    "        return 'Muy Alto'\n",
    "    elif valor_categoria == 'Unknown':\n",
    "        return 'Desconocido'"
   ]
  },
  {
   "cell_type": "code",
   "execution_count": null,
   "id": "b36a5f7b",
   "metadata": {},
   "outputs": [],
   "source": []
  }
 ],
 "metadata": {
  "kernelspec": {
   "display_name": "Python 3 (ipykernel)",
   "language": "python",
   "name": "python3"
  },
  "language_info": {
   "codemirror_mode": {
    "name": "ipython",
    "version": 3
   },
   "file_extension": ".py",
   "mimetype": "text/x-python",
   "name": "python",
   "nbconvert_exporter": "python",
   "pygments_lexer": "ipython3",
   "version": "3.9.12"
  }
 },
 "nbformat": 4,
 "nbformat_minor": 5
}
