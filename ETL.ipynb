{
 "cells": [
  {
   "cell_type": "markdown",
   "id": "5a10b0e8",
   "metadata": {},
   "source": [
    "# Extracción"
   ]
  },
  {
   "cell_type": "code",
   "execution_count": null,
   "id": "1370026c",
   "metadata": {},
   "outputs": [],
   "source": [
    "# Se importan librerias\n",
    "import pandas as pd # Pandas para el tratamiento de datos mediante Dataframes\n",
    "from datetime import datetime # Para agrear las columnas datetime y unixtimestamp\n",
    "from funciones.funcion_categoria import categoria # Importamos la función categoria para"
   ]
  },
  {
   "cell_type": "code",
   "execution_count": null,
   "id": "141332ed",
   "metadata": {},
   "outputs": [],
   "source": [
    "bch = pd.read_csv('recursos/BankChurners.csv', sep = ',') # Cargamos el archivo a CSV"
   ]
  },
  {
   "cell_type": "markdown",
   "id": "b899b798",
   "metadata": {},
   "source": [
    "# Transformación"
   ]
  },
  {
   "cell_type": "code",
   "execution_count": null,
   "id": "5cdf5f11",
   "metadata": {},
   "outputs": [],
   "source": [
    "# Eliminamos las columnas que no se necesitan\n",
    "bch = bch.drop(['CLIENTNUM','Naive_Bayes_Classifier_Attrition_Flag_Card_Category_Contacts_Count_12_mon_Dependent_count_Education_Level_Months_Inactive_12_mon_1', 'Naive_Bayes_Classifier_Attrition_Flag_Card_Category_Contacts_Count_12_mon_Dependent_count_Education_Level_Months_Inactive_12_mon_2'],axis = 1)"
   ]
  },
  {
   "cell_type": "code",
   "execution_count": null,
   "id": "4fc795b9",
   "metadata": {},
   "outputs": [],
   "source": [
    "## Definimos los valores a reemplazar y los nuevos valores\n",
    "#mapping = {'Unknown': 'Desconocido', \n",
    "#           'Less than $40K': 'Muy bajo', \n",
    "#           '$40K - $60K': 'bajo', \n",
    "#           '$60K - $80K': 'Intermedio', \n",
    "#           '$80K - $120K': 'Alto', \n",
    "#           '$120K +': 'Muy Alto'}\n",
    "#\n",
    "## Utilizar el método replace de pandas para cambiar los valores de la columna\n",
    "#bch['Income_Category'] = bch['Income_Category'].replace(mapping)"
   ]
  },
  {
   "cell_type": "code",
   "execution_count": null,
   "id": "01f46a30",
   "metadata": {},
   "outputs": [],
   "source": [
    "# Creamos la columna Income_Category_1 en donde se va a almacenar la categoria que le corresponde a cada valor\n",
    "bch['Income_Category_1'] = bch['Income_Category'].apply(categoria) "
   ]
  },
  {
   "cell_type": "code",
   "execution_count": null,
   "id": "3bc0bf58",
   "metadata": {},
   "outputs": [],
   "source": [
    "# Creamos una nueva columna con la fecha de creación en formato datetime\n",
    "bch['Fecha_creacion_datetime'] = datetime.now()"
   ]
  },
  {
   "cell_type": "code",
   "execution_count": null,
   "id": "42293c35",
   "metadata": {},
   "outputs": [],
   "source": [
    "# Creamos una nueva columna con la fecha de creación en formato Unix timestamp\n",
    "bch['Fecha_creacion_Unixtimestamp'] = bch['Fecha_creacion_datetime'].apply(lambda x: int(x.timestamp()))"
   ]
  },
  {
   "cell_type": "markdown",
   "id": "540a34c4",
   "metadata": {},
   "source": [
    "# Carga"
   ]
  },
  {
   "cell_type": "code",
   "execution_count": null,
   "id": "4cb8cc06",
   "metadata": {},
   "outputs": [],
   "source": [
    "# Enviamos el archivo a la ruta local de nuestro proyecto con el nombre BankChurners_final.csv\n",
    "bch.to_csv('BankChurners_final.csv', sep = '|', encoding = 'utf-8')"
   ]
  }
 ],
 "metadata": {
  "kernelspec": {
   "display_name": "Python 3 (ipykernel)",
   "language": "python",
   "name": "python3"
  },
  "language_info": {
   "codemirror_mode": {
    "name": "ipython",
    "version": 3
   },
   "file_extension": ".py",
   "mimetype": "text/x-python",
   "name": "python",
   "nbconvert_exporter": "python",
   "pygments_lexer": "ipython3",
   "version": "3.9.12"
  }
 },
 "nbformat": 4,
 "nbformat_minor": 5
}
